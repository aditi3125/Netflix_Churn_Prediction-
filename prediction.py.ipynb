{
 "cells": [
  {
   "cell_type": "code",
   "execution_count": null,
   "id": "f05129ca-5013-4aa5-b04a-dc494bdfa6f2",
   "metadata": {},
   "outputs": [],
   "source": []
  }
 ],
 "metadata": {
  "kernelspec": {
   "display_name": "",
   "name": ""
  },
  "language_info": {
   "name": ""
  }
 },
 "nbformat": 4,
 "nbformat_minor": 5
}
